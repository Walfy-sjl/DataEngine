{
 "cells": [
  {
   "cell_type": "code",
   "execution_count": 5,
   "metadata": {
    "collapsed": true
   },
   "outputs": [],
   "source": [
    "import numpy as np\n",
    "import pandas as pd\n",
    "import matplotlib.pyplot as plt"
   ]
  },
  {
   "cell_type": "code",
   "execution_count": 9,
   "outputs": [
    {
     "data": {
      "text/plain": "   Unnamed: 0  year  month  YearMon            mmodel quarter  sales  export  \\\n0           2  2019      3  2019-03  718 boxter (FBU)      Q1    307       0   \n1           3  2019      2  2019-02  718 boxter (FBU)      Q1    350       0   \n2           4  2018     12  2018-12  718 boxter (FBU)      Q4    484       0   \n3           5  2019      4  2019-04  718 boxter (FBU)      Q2    593       0   \n4           6  2019      1  2019-01  718 boxter (FBU)      Q1    278       0   \n\n   produce WRstatus       ...       subsubsegment   type e_type  \\\n0        0      R/R       ...                 NaN  sedan    ICE   \n1        0      R/R       ...                 NaN  sedan    ICE   \n2        0      R/R       ...                 NaN  sedan    ICE   \n3        0      R/R       ...                 NaN  sedan    ICE   \n4        0      R/R       ...                 NaN  sedan    ICE   \n\n      manu_brand    brand manufacturer group_domestic group_foreign  origin  \\\n0  Porsche (FBU)  Porsche      Porsche            NaN            VW  Europe   \n1  Porsche (FBU)  Porsche      Porsche            NaN            VW  Europe   \n2  Porsche (FBU)  Porsche      Porsche            NaN            VW  Europe   \n3  Porsche (FBU)  Porsche      Porsche            NaN            VW  Europe   \n4  Porsche (FBU)  Porsche      Porsche            NaN            VW  Europe   \n\n  brand_indicator  \n0         Premium  \n1         Premium  \n2         Premium  \n3         Premium  \n4         Premium  \n\n[5 rows x 28 columns]",
      "text/html": "<div>\n<style>\n    .dataframe thead tr:only-child th {\n        text-align: right;\n    }\n\n    .dataframe thead th {\n        text-align: left;\n    }\n\n    .dataframe tbody tr th {\n        vertical-align: top;\n    }\n</style>\n<table border=\"1\" class=\"dataframe\">\n  <thead>\n    <tr style=\"text-align: right;\">\n      <th></th>\n      <th>Unnamed: 0</th>\n      <th>year</th>\n      <th>month</th>\n      <th>YearMon</th>\n      <th>mmodel</th>\n      <th>quarter</th>\n      <th>sales</th>\n      <th>export</th>\n      <th>produce</th>\n      <th>WRstatus</th>\n      <th>...</th>\n      <th>subsubsegment</th>\n      <th>type</th>\n      <th>e_type</th>\n      <th>manu_brand</th>\n      <th>brand</th>\n      <th>manufacturer</th>\n      <th>group_domestic</th>\n      <th>group_foreign</th>\n      <th>origin</th>\n      <th>brand_indicator</th>\n    </tr>\n  </thead>\n  <tbody>\n    <tr>\n      <th>0</th>\n      <td>2</td>\n      <td>2019</td>\n      <td>3</td>\n      <td>2019-03</td>\n      <td>718 boxter (FBU)</td>\n      <td>Q1</td>\n      <td>307</td>\n      <td>0</td>\n      <td>0</td>\n      <td>R/R</td>\n      <td>...</td>\n      <td>NaN</td>\n      <td>sedan</td>\n      <td>ICE</td>\n      <td>Porsche (FBU)</td>\n      <td>Porsche</td>\n      <td>Porsche</td>\n      <td>NaN</td>\n      <td>VW</td>\n      <td>Europe</td>\n      <td>Premium</td>\n    </tr>\n    <tr>\n      <th>1</th>\n      <td>3</td>\n      <td>2019</td>\n      <td>2</td>\n      <td>2019-02</td>\n      <td>718 boxter (FBU)</td>\n      <td>Q1</td>\n      <td>350</td>\n      <td>0</td>\n      <td>0</td>\n      <td>R/R</td>\n      <td>...</td>\n      <td>NaN</td>\n      <td>sedan</td>\n      <td>ICE</td>\n      <td>Porsche (FBU)</td>\n      <td>Porsche</td>\n      <td>Porsche</td>\n      <td>NaN</td>\n      <td>VW</td>\n      <td>Europe</td>\n      <td>Premium</td>\n    </tr>\n    <tr>\n      <th>2</th>\n      <td>4</td>\n      <td>2018</td>\n      <td>12</td>\n      <td>2018-12</td>\n      <td>718 boxter (FBU)</td>\n      <td>Q4</td>\n      <td>484</td>\n      <td>0</td>\n      <td>0</td>\n      <td>R/R</td>\n      <td>...</td>\n      <td>NaN</td>\n      <td>sedan</td>\n      <td>ICE</td>\n      <td>Porsche (FBU)</td>\n      <td>Porsche</td>\n      <td>Porsche</td>\n      <td>NaN</td>\n      <td>VW</td>\n      <td>Europe</td>\n      <td>Premium</td>\n    </tr>\n    <tr>\n      <th>3</th>\n      <td>5</td>\n      <td>2019</td>\n      <td>4</td>\n      <td>2019-04</td>\n      <td>718 boxter (FBU)</td>\n      <td>Q2</td>\n      <td>593</td>\n      <td>0</td>\n      <td>0</td>\n      <td>R/R</td>\n      <td>...</td>\n      <td>NaN</td>\n      <td>sedan</td>\n      <td>ICE</td>\n      <td>Porsche (FBU)</td>\n      <td>Porsche</td>\n      <td>Porsche</td>\n      <td>NaN</td>\n      <td>VW</td>\n      <td>Europe</td>\n      <td>Premium</td>\n    </tr>\n    <tr>\n      <th>4</th>\n      <td>6</td>\n      <td>2019</td>\n      <td>1</td>\n      <td>2019-01</td>\n      <td>718 boxter (FBU)</td>\n      <td>Q1</td>\n      <td>278</td>\n      <td>0</td>\n      <td>0</td>\n      <td>R/R</td>\n      <td>...</td>\n      <td>NaN</td>\n      <td>sedan</td>\n      <td>ICE</td>\n      <td>Porsche (FBU)</td>\n      <td>Porsche</td>\n      <td>Porsche</td>\n      <td>NaN</td>\n      <td>VW</td>\n      <td>Europe</td>\n      <td>Premium</td>\n    </tr>\n  </tbody>\n</table>\n<p>5 rows × 28 columns</p>\n</div>"
     },
     "execution_count": 9,
     "metadata": {},
     "output_type": "execute_result"
    }
   ],
   "source": [
    "df = pd.read_csv(r\"E:\\PythonCode\\python\\SVWDataEngine\\Pre\\salesdata_all.csv\",encoding='ansi')\n",
    "df.head()"
   ],
   "metadata": {
    "collapsed": false,
    "pycharm": {
     "name": "#%%\n"
    }
   }
  },
  {
   "cell_type": "code",
   "execution_count": 10,
   "outputs": [
    {
     "data": {
      "text/plain": "year\n2018    45257094\n2019    41830856\n2020     8847311\nName: sales, dtype: int64"
     },
     "execution_count": 10,
     "metadata": {},
     "output_type": "execute_result"
    }
   ],
   "source": [
    "data_1 = df.groupby('year').sum()['sales']\n",
    "data_1\n"
   ],
   "metadata": {
    "collapsed": false,
    "pycharm": {
     "name": "#%%\n"
    }
   }
  },
  {
   "cell_type": "code",
   "execution_count": 13,
   "outputs": [],
   "source": [
    "xx=data_1.index\n",
    "yy=data_1.values"
   ],
   "metadata": {
    "collapsed": false,
    "pycharm": {
     "name": "#%%\n"
    }
   }
  },
  {
   "cell_type": "code",
   "execution_count": 16,
   "outputs": [],
   "source": [
    "# explode = [0,0.1,0,0,0,0.2]\n",
    "explode = [0,0.1,0.2]\n",
    "colors = ['red','blue','yellow','green']\n",
    "plt.rcParams['font.sans-serif'] = ['SimHei']\n",
    "plt.rcParams['axes.unicode_minus'] = False"
   ],
   "metadata": {
    "collapsed": false,
    "pycharm": {
     "name": "#%%\n"
    }
   }
  },
  {
   "cell_type": "code",
   "execution_count": 18,
   "outputs": [
    {
     "data": {
      "text/plain": "<Figure size 432x288 with 1 Axes>",
      "image/png": "[encoded data removed]"
     },
     "metadata": {},
     "output_type": "display_data"
    }
   ],
   "source": [
    "plt.pie(x=xx,explode=explode,labels=yy,colors=colors,\\\n",
    "        autopct='.1f%%',pctdistance=0.5,labeldistance=1.1,\\\n",
    "        startangle=0,radius=1.2,counterclock=False,\\\n",
    "        wedgeprops={'linewidth':1.5,'edgecolor':'green'})\n",
    "plt.title('pie figure',pad = 30)\n",
    "plt.show()"
   ],
   "metadata": {
    "collapsed": false,
    "pycharm": {
     "name": "#%%\n"
    }
   }
  },
  {
   "cell_type": "code",
   "execution_count": 28,
   "outputs": [
    {
     "data": {
      "text/plain": "    year  month    sales\n0   2018      1  2289129\n1   2018      2  1445673\n2   2018      3  1999545\n3   2018      4  1841113\n4   2018      5  1825165\n5   2018      6  1716914\n6   2018      7  1603248\n7   2018      8  1789789\n8   2018      9  1949087\n9   2018     10  1965963\n10  2018     11  2065733\n11  2018     12  2253700\n12  2019      1  2211156\n13  2019      2  1172568\n14  2019      3  1791339\n15  2019      4  1565767\n16  2019      5  1642169\n17  2019      6  1844224\n18  2019      7  1539531\n19  2019      8  1611129\n20  2019      9  1839898\n21  2019     10  1875167\n22  2019     11  1979900\n23  2019     12  2200216\n24  2020      1  1762612\n25  2020      2   253192\n26  2020      3  1078843\n27  2020      4  1497613",
      "text/html": "<div>\n<style>\n    .dataframe thead tr:only-child th {\n        text-align: right;\n    }\n\n    .dataframe thead th {\n        text-align: left;\n    }\n\n    .dataframe tbody tr th {\n        vertical-align: top;\n    }\n</style>\n<table border=\"1\" class=\"dataframe\">\n  <thead>\n    <tr style=\"text-align: right;\">\n      <th></th>\n      <th>year</th>\n      <th>month</th>\n      <th>sales</th>\n    </tr>\n  </thead>\n  <tbody>\n    <tr>\n      <th>0</th>\n      <td>2018</td>\n      <td>1</td>\n      <td>2289129</td>\n    </tr>\n    <tr>\n      <th>1</th>\n      <td>2018</td>\n      <td>2</td>\n      <td>1445673</td>\n    </tr>\n    <tr>\n      <th>2</th>\n      <td>2018</td>\n      <td>3</td>\n      <td>1999545</td>\n    </tr>\n    <tr>\n      <th>3</th>\n      <td>2018</td>\n      <td>4</td>\n      <td>1841113</td>\n    </tr>\n    <tr>\n      <th>4</th>\n      <td>2018</td>\n      <td>5</td>\n      <td>1825165</td>\n    </tr>\n    <tr>\n      <th>5</th>\n      <td>2018</td>\n      <td>6</td>\n      <td>1716914</td>\n    </tr>\n    <tr>\n      <th>6</th>\n      <td>2018</td>\n      <td>7</td>\n      <td>1603248</td>\n    </tr>\n    <tr>\n      <th>7</th>\n      <td>2018</td>\n      <td>8</td>\n      <td>1789789</td>\n    </tr>\n    <tr>\n      <th>8</th>\n      <td>2018</td>\n      <td>9</td>\n      <td>1949087</td>\n    </tr>\n    <tr>\n      <th>9</th>\n      <td>2018</td>\n      <td>10</td>\n      <td>1965963</td>\n    </tr>\n    <tr>\n      <th>10</th>\n      <td>2018</td>\n      <td>11</td>\n      <td>2065733</td>\n    </tr>\n    <tr>\n      <th>11</th>\n      <td>2018</td>\n      <td>12</td>\n      <td>2253700</td>\n    </tr>\n    <tr>\n      <th>12</th>\n      <td>2019</td>\n      <td>1</td>\n      <td>2211156</td>\n    </tr>\n    <tr>\n      <th>13</th>\n      <td>2019</td>\n      <td>2</td>\n      <td>1172568</td>\n    </tr>\n    <tr>\n      <th>14</th>\n      <td>2019</td>\n      <td>3</td>\n      <td>1791339</td>\n    </tr>\n    <tr>\n      <th>15</th>\n      <td>2019</td>\n      <td>4</td>\n      <td>1565767</td>\n    </tr>\n    <tr>\n      <th>16</th>\n      <td>2019</td>\n      <td>5</td>\n      <td>1642169</td>\n    </tr>\n    <tr>\n      <th>17</th>\n      <td>2019</td>\n      <td>6</td>\n      <td>1844224</td>\n    </tr>\n    <tr>\n      <th>18</th>\n      <td>2019</td>\n      <td>7</td>\n      <td>1539531</td>\n    </tr>\n    <tr>\n      <th>19</th>\n      <td>2019</td>\n      <td>8</td>\n      <td>1611129</td>\n    </tr>\n    <tr>\n      <th>20</th>\n      <td>2019</td>\n      <td>9</td>\n      <td>1839898</td>\n    </tr>\n    <tr>\n      <th>21</th>\n      <td>2019</td>\n      <td>10</td>\n      <td>1875167</td>\n    </tr>\n    <tr>\n      <th>22</th>\n      <td>2019</td>\n      <td>11</td>\n      <td>1979900</td>\n    </tr>\n    <tr>\n      <th>23</th>\n      <td>2019</td>\n      <td>12</td>\n      <td>2200216</td>\n    </tr>\n    <tr>\n      <th>24</th>\n      <td>2020</td>\n      <td>1</td>\n      <td>1762612</td>\n    </tr>\n    <tr>\n      <th>25</th>\n      <td>2020</td>\n      <td>2</td>\n      <td>253192</td>\n    </tr>\n    <tr>\n      <th>26</th>\n      <td>2020</td>\n      <td>3</td>\n      <td>1078843</td>\n    </tr>\n    <tr>\n      <th>27</th>\n      <td>2020</td>\n      <td>4</td>\n      <td>1497613</td>\n    </tr>\n  </tbody>\n</table>\n</div>"
     },
     "execution_count": 28,
     "metadata": {},
     "output_type": "execute_result"
    }
   ],
   "source": [
    "data_2 = df[df['WRstatus'] == 'R/R'].groupby(['year','month']).sum()['sales']\n",
    "data_2 = pd.DataFrame(data_2)\n",
    "data_2.reset_index(drop=False,inplace=True)\n",
    "data_2"
   ],
   "metadata": {
    "collapsed": false,
    "pycharm": {
     "name": "#%%\n"
    }
   }
  },
  {
   "cell_type": "code",
   "execution_count": 29,
   "outputs": [
    {
     "data": {
      "text/plain": "<Figure size 432x288 with 1 Axes>",
      "image/png": "[encoded data removed]"
     },
     "metadata": {},
     "output_type": "display_data"
    }
   ],
   "source": [
    "plt.bar(x = data_2.index.values,height = data_2.sales,width=0.5)\n",
    "plt.show()"
   ],
   "metadata": {
    "collapsed": false,
    "pycharm": {
     "name": "#%%\n"
    }
   }
  },
  {
   "cell_type": "code",
   "execution_count": 30,
   "outputs": [
    {
     "data": {
      "text/plain": "<Figure size 432x288 with 1 Axes>",
      "image/png": "[encoded data removed]"
     },
     "metadata": {},
     "output_type": "display_data"
    }
   ],
   "source": [
    "plt.bar(x = data_2.month.values,height = data_2.sales,width=0.5)\n",
    "plt.show()"
   ],
   "metadata": {
    "collapsed": false,
    "pycharm": {
     "name": "#%%\n"
    }
   }
  },
  {
   "cell_type": "code",
   "execution_count": null,
   "outputs": [],
   "source": [
    "\n"
   ],
   "metadata": {
    "collapsed": false,
    "pycharm": {
     "name": "#%%\n"
    }
   }
  }
 ],
 "metadata": {
  "kernelspec": {
   "display_name": "Python 3",
   "language": "python",
   "name": "python3"
  },
  "language_info": {
   "codemirror_mode": {
    "name": "ipython",
    "version": 2
   },
   "file_extension": ".py",
   "mimetype": "text/x-python",
   "name": "python",
   "nbconvert_exporter": "python",
   "pygments_lexer": "ipython2",
   "version": "2.7.6"
  }
 },
 "nbformat": 4,
 "nbformat_minor": 0
}