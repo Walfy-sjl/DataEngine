{
 "cells": [
  {
   "cell_type": "code",
   "execution_count": 1,
   "metadata": {
    "collapsed": true
   },
   "outputs": [
    {
     "data": {
      "text/plain": "       name  age     sex\n0  zhangsan   23    male\n1      lisi   30    male\n2      lily   24  female",
      "text/html": "<div>\n<style>\n    .dataframe thead tr:only-child th {\n        text-align: right;\n    }\n\n    .dataframe thead th {\n        text-align: left;\n    }\n\n    .dataframe tbody tr th {\n        vertical-align: top;\n    }\n</style>\n<table border=\"1\" class=\"dataframe\">\n  <thead>\n    <tr style=\"text-align: right;\">\n      <th></th>\n      <th>name</th>\n      <th>age</th>\n      <th>sex</th>\n    </tr>\n  </thead>\n  <tbody>\n    <tr>\n      <th>0</th>\n      <td>zhangsan</td>\n      <td>23</td>\n      <td>male</td>\n    </tr>\n    <tr>\n      <th>1</th>\n      <td>lisi</td>\n      <td>30</td>\n      <td>male</td>\n    </tr>\n    <tr>\n      <th>2</th>\n      <td>lily</td>\n      <td>24</td>\n      <td>female</td>\n    </tr>\n  </tbody>\n</table>\n</div>"
     },
     "execution_count": 1,
     "metadata": {},
     "output_type": "execute_result"
    }
   ],
   "source": [
    "import numpy as np\n",
    "import pandas as pd\n",
    "list1 = [['zhangsan',23,'male'],['lisi',30,'male'],['lily',24,'female']]\n",
    "df1 = pd.DataFrame(list1,columns=['name','age','sex'])\n",
    "df1"
   ]
  },
  {
   "cell_type": "code",
   "execution_count": 2,
   "outputs": [
    {
     "data": {
      "text/plain": "   agee      name   sex\n0    11  zhangsan   boy\n1    22      kisi   boy\n2    33      miss  girl",
      "text/html": "<div>\n<style>\n    .dataframe thead tr:only-child th {\n        text-align: right;\n    }\n\n    .dataframe thead th {\n        text-align: left;\n    }\n\n    .dataframe tbody tr th {\n        vertical-align: top;\n    }\n</style>\n<table border=\"1\" class=\"dataframe\">\n  <thead>\n    <tr style=\"text-align: right;\">\n      <th></th>\n      <th>agee</th>\n      <th>name</th>\n      <th>sex</th>\n    </tr>\n  </thead>\n  <tbody>\n    <tr>\n      <th>0</th>\n      <td>11</td>\n      <td>zhangsan</td>\n      <td>boy</td>\n    </tr>\n    <tr>\n      <th>1</th>\n      <td>22</td>\n      <td>kisi</td>\n      <td>boy</td>\n    </tr>\n    <tr>\n      <th>2</th>\n      <td>33</td>\n      <td>miss</td>\n      <td>girl</td>\n    </tr>\n  </tbody>\n</table>\n</div>"
     },
     "execution_count": 2,
     "metadata": {},
     "output_type": "execute_result"
    }
   ],
   "source": [
    "df2 = pd.DataFrame({'name':['zhangsan','kisi','miss'],\\\n",
    "                    'agee':[11,22,33],\\\n",
    "                    'sex':['boy','boy','girl']})\n",
    "df2"
   ],
   "metadata": {
    "collapsed": false,
    "pycharm": {
     "name": "#%%\n"
    }
   }
  },
  {
   "cell_type": "code",
   "execution_count": 3,
   "outputs": [
    {
     "data": {
      "text/plain": "array([[11, 'zhangsan', 'boy'],\n       [22, 'kisi', 'boy'],\n       [33, 'miss', 'girl']], dtype=object)"
     },
     "execution_count": 3,
     "metadata": {},
     "output_type": "execute_result"
    }
   ],
   "source": [
    "df2.values"
   ],
   "metadata": {
    "collapsed": false,
    "pycharm": {
     "name": "#%%\n"
    }
   }
  },
  {
   "cell_type": "code",
   "execution_count": 4,
   "outputs": [
    {
     "data": {
      "text/plain": "(3, 3)"
     },
     "execution_count": 4,
     "metadata": {},
     "output_type": "execute_result"
    }
   ],
   "source": [
    "df2.shape"
   ],
   "metadata": {
    "collapsed": false,
    "pycharm": {
     "name": "#%%\n"
    }
   }
  },
  {
   "cell_type": "code",
   "execution_count": 5,
   "outputs": [
    {
     "data": {
      "text/plain": "agee     int64\nname    object\nsex     object\ndtype: object"
     },
     "execution_count": 5,
     "metadata": {},
     "output_type": "execute_result"
    }
   ],
   "source": [
    "df2.dtypes"
   ],
   "metadata": {
    "collapsed": false,
    "pycharm": {
     "name": "#%%\n"
    }
   }
  },
  {
   "cell_type": "code",
   "execution_count": 6,
   "outputs": [
    {
     "data": {
      "text/plain": "Index(['agee', 'name', 'sex'], dtype='object')"
     },
     "execution_count": 6,
     "metadata": {},
     "output_type": "execute_result"
    }
   ],
   "source": [
    "df2.columns"
   ],
   "metadata": {
    "collapsed": false,
    "pycharm": {
     "name": "#%%\n"
    }
   }
  },
  {
   "cell_type": "code",
   "execution_count": 7,
   "outputs": [
    {
     "data": {
      "text/plain": "array([0, 1, 2], dtype=int64)"
     },
     "execution_count": 7,
     "metadata": {},
     "output_type": "execute_result"
    }
   ],
   "source": [
    "df2.index.values"
   ],
   "metadata": {
    "collapsed": false,
    "pycharm": {
     "name": "#%%\n"
    }
   }
  },
  {
   "cell_type": "code",
   "execution_count": 26,
   "outputs": [
    {
     "data": {
      "text/plain": "        year  month  YearMon            mmodel quarter  sales  export  \\\n0       2015    6.0  2015-06   3-Wheeler (FBU)      Q2      1       0   \n1       2015    7.0  2015-07   3-Wheeler (FBU)      Q3      1       0   \n2       2019    3.0  2019-03  718 boxter (FBU)      Q1    307       0   \n3       2019    2.0  2019-02  718 boxter (FBU)      Q1    350       0   \n4       2018   12.0  2018-12  718 boxter (FBU)      Q4    484       0   \n5       2019    4.0  2019-04  718 boxter (FBU)      Q2    593       0   \n6       2019    1.0  2019-01  718 boxter (FBU)      Q1    278       0   \n7       2019    5.0  2019-05  718 boxter (FBU)      Q2    475       0   \n8       2019    7.0  2019-07  718 boxter (FBU)      Q3    120       0   \n9       2019    6.0  2019-06  718 boxter (FBU)      Q2    672       0   \n10      2019    9.0  2019-09  718 boxter (FBU)      Q3     60       0   \n11      2019   10.0  2019-10  718 boxter (FBU)      Q4     30       0   \n12      2019    8.0  2019-08  718 boxter (FBU)      Q3     77       0   \n13      2020    2.0  2020-02  718 boxter (FBU)      Q1     19       0   \n14      2019   12.0  2019-12  718 boxter (FBU)      Q4      4       0   \n15      2020    1.0  2020-01  718 boxter (FBU)      Q1      5       0   \n16      2019   11.0  2019-11  718 boxter (FBU)      Q4     13       0   \n17      2017    9.0  2017-09  718 boxter (FBU)      Q3    188       0   \n18      2017    6.0  2017-06  718 boxter (FBU)      Q2    227       0   \n19      2017    7.0  2017-07  718 boxter (FBU)      Q3    198       0   \n20      2017    8.0  2017-08  718 boxter (FBU)      Q3    308       0   \n21      2018    2.0  2018-02  718 boxter (FBU)      Q1    182       0   \n22      2017   10.0  2017-10  718 boxter (FBU)      Q4    180       0   \n23      2017   11.0  2017-11  718 boxter (FBU)      Q4    111       0   \n24      2017   12.0  2017-12  718 boxter (FBU)      Q4    146       0   \n25      2018    1.0  2018-01  718 boxter (FBU)      Q1    195       0   \n26      2018    3.0  2018-03  718 boxter (FBU)      Q1    326       0   \n27      2018    4.0  2018-04  718 boxter (FBU)      Q2    153       0   \n28      2018    5.0  2018-05  718 boxter (FBU)      Q2    104       0   \n29      2018    6.0  2018-06  718 boxter (FBU)      Q2     16       0   \n...      ...    ...      ...               ...     ...    ...     ...   \n169774  2017    8.0  2017-08        ZOTYE Z700      Q3    608       0   \n169775  2017    8.0  2017-08        ZOTYE Z700      Q3    608       0   \n169776  2017    7.0  2017-07        ZOTYE Z700      Q3    966       0   \n169777  2017    6.0  2017-06        ZOTYE Z700      Q2    837       0   \n169778  2017   10.0  2017-10        ZOTYE Z700      Q4    230       0   \n169779  2017    7.0  2017-07        ZOTYE Z700      Q3    966       0   \n169780  2016   12.0  2016-12        ZOTYE Z700      Q4   1307       0   \n169781  2016    9.0  2016-09        ZOTYE Z700      Q3   1983       0   \n169782  2016   10.0  2016-10        ZOTYE Z700      Q4   1886       0   \n169783  2016   10.0  2016-10        ZOTYE Z700      Q4   1886       0   \n169784  2016   11.0  2016-11        ZOTYE Z700      Q4   1076       0   \n169785  2016   11.0  2016-11        ZOTYE Z700      Q4   1076       0   \n169786  2016   12.0  2016-12        ZOTYE Z700      Q4   1307       0   \n169787  2016    9.0  2016-09        ZOTYE Z700      Q3   1983       0   \n169788  2018   10.0  2018-10        ZOTYE Z700      Q4     21       0   \n169789  2018    8.0  2018-08        ZOTYE Z700      Q3      1       0   \n169790  2018    8.0  2018-08        ZOTYE Z700      Q3      1       0   \n169791  2018    9.0  2018-09        ZOTYE Z700      Q3      7       0   \n169792  2018    9.0  2018-09        ZOTYE Z700      Q3      7       0   \n169793  2018   10.0  2018-10        ZOTYE Z700      Q4     21       0   \n169794  2016    8.0  2016-08        ZOTYE Z700      Q3   1779       0   \n169795  2016    7.0  2016-07        ZOTYE Z700      Q3   1479       0   \n169796  2016    7.0  2016-07        ZOTYE Z700      Q3   1479       0   \n169797  2016    6.0  2016-06        ZOTYE Z700      Q2   1453       0   \n169798  2016    6.0  2016-06        ZOTYE Z700      Q2   1453       0   \n169799  2016    5.0  2016-05        ZOTYE Z700      Q2    645       0   \n169800  2016    5.0  2016-05        ZOTYE Z700      Q2    645       0   \n169801  2016    4.0  2016-04        ZOTYE Z700      Q2    748       0   \n169802  2016    8.0  2016-08        ZOTYE Z700      Q3   1779       0   \n169803  2016    4.0  2016-04        ZOTYE Z700      Q2    748       0   \n\n        produce WRstatus CKDFBU       ...       subsubsegment   type e_type  \\\n0             0      R/R    FBU       ...                 NaN  sedan    ICE   \n1             0      R/R    FBU       ...                 NaN  sedan    ICE   \n2             0      R/R    FBU       ...                 NaN  sedan    ICE   \n3             0      R/R    FBU       ...                 NaN  sedan    ICE   \n4             0      R/R    FBU       ...                 NaN  sedan    ICE   \n5             0      R/R    FBU       ...                 NaN  sedan    ICE   \n6             0      R/R    FBU       ...                 NaN  sedan    ICE   \n7             0      R/R    FBU       ...                 NaN  sedan    ICE   \n8             0      R/R    FBU       ...                 NaN  sedan    ICE   \n9             0      R/R    FBU       ...                 NaN  sedan    ICE   \n10            0      R/R    FBU       ...                 NaN  sedan    ICE   \n11            0      R/R    FBU       ...                 NaN  sedan    ICE   \n12            0      R/R    FBU       ...                 NaN  sedan    ICE   \n13            0      R/R    FBU       ...                 NaN  sedan    ICE   \n14            0      R/R    FBU       ...                 NaN  sedan    ICE   \n15            0      R/R    FBU       ...                 NaN  sedan    ICE   \n16            0      R/R    FBU       ...                 NaN  sedan    ICE   \n17            0      R/R    FBU       ...                 NaN  sedan    ICE   \n18            0      R/R    FBU       ...                 NaN  sedan    ICE   \n19            0      R/R    FBU       ...                 NaN  sedan    ICE   \n20            0      R/R    FBU       ...                 NaN  sedan    ICE   \n21            0      R/R    FBU       ...                 NaN  sedan    ICE   \n22            0      R/R    FBU       ...                 NaN  sedan    ICE   \n23            0      R/R    FBU       ...                 NaN  sedan    ICE   \n24            0      R/R    FBU       ...                 NaN  sedan    ICE   \n25            0      R/R    FBU       ...                 NaN  sedan    ICE   \n26            0      R/R    FBU       ...                 NaN  sedan    ICE   \n27            0      R/R    FBU       ...                 NaN  sedan    ICE   \n28            0      R/R    FBU       ...                 NaN  sedan    ICE   \n29            0      R/R    FBU       ...                 NaN  sedan    ICE   \n...         ...      ...    ...       ...                 ...    ...    ...   \n169774        0      W/W    CKD       ...                 Low  sedan    ICE   \n169775      593      R/R    CKD       ...                 Low  sedan    ICE   \n169776      942      R/R    CKD       ...                 Low  sedan    ICE   \n169777      866      R/R    CKD       ...                 Low  sedan    ICE   \n169778        0      W/W    CKD       ...                 Low  sedan    ICE   \n169779        0      W/W    CKD       ...                 Low  sedan    ICE   \n169780        0      W/W    CKD       ...                 Low  sedan    ICE   \n169781        0      W/W    CKD       ...                 Low  sedan    ICE   \n169782     1858      R/R    CKD       ...                 Low  sedan    ICE   \n169783        0      W/W    CKD       ...                 Low  sedan    ICE   \n169784     1060      R/R    CKD       ...                 Low  sedan    ICE   \n169785        0      W/W    CKD       ...                 Low  sedan    ICE   \n169786     1255      R/R    CKD       ...                 Low  sedan    ICE   \n169787     1953      R/R    CKD       ...                 Low  sedan    ICE   \n169788        0      W/W    CKD       ...                 Low  sedan    ICE   \n169789        0      R/R    CKD       ...                 Low  sedan    ICE   \n169790        0      W/W    CKD       ...                 Low  sedan    ICE   \n169791        0      R/R    CKD       ...                 Low  sedan    ICE   \n169792        0      W/W    CKD       ...                 Low  sedan    ICE   \n169793        0      R/R    CKD       ...                 Low  sedan    ICE   \n169794     1752      R/R    CKD       ...                 Low  sedan    ICE   \n169795        0      W/W    CKD       ...                 Low  sedan    ICE   \n169796     1457      R/R    CKD       ...                 Low  sedan    ICE   \n169797        0      W/W    CKD       ...                 Low  sedan    ICE   \n169798     1598      R/R    CKD       ...                 Low  sedan    ICE   \n169799        0      W/W    CKD       ...                 Low  sedan    ICE   \n169800      710      R/R    CKD       ...                 Low  sedan    ICE   \n169801      823      R/R    CKD       ...                 Low  sedan    ICE   \n169802        0      W/W    CKD       ...                 Low  sedan    ICE   \n169803        0      W/W    CKD       ...                 Low  sedan    ICE   \n\n           manu_brand    brand manufacturer group_domestic group_foreign  \\\n0        Morgan (FBU)   Morgan       Morgan            NaN        Morgan   \n1        Morgan (FBU)   Morgan       Morgan            NaN        Morgan   \n2       Porsche (FBU)  Porsche      Porsche            NaN            VW   \n3       Porsche (FBU)  Porsche      Porsche            NaN            VW   \n4       Porsche (FBU)  Porsche      Porsche            NaN            VW   \n5       Porsche (FBU)  Porsche      Porsche            NaN            VW   \n6       Porsche (FBU)  Porsche      Porsche            NaN            VW   \n7       Porsche (FBU)  Porsche      Porsche            NaN            VW   \n8       Porsche (FBU)  Porsche      Porsche            NaN            VW   \n9       Porsche (FBU)  Porsche      Porsche            NaN            VW   \n10      Porsche (FBU)  Porsche      Porsche            NaN            VW   \n11      Porsche (FBU)  Porsche      Porsche            NaN            VW   \n12      Porsche (FBU)  Porsche      Porsche            NaN            VW   \n13      Porsche (FBU)  Porsche      Porsche            NaN            VW   \n14      Porsche (FBU)  Porsche      Porsche            NaN            VW   \n15      Porsche (FBU)  Porsche      Porsche            NaN            VW   \n16      Porsche (FBU)  Porsche      Porsche            NaN            VW   \n17      Porsche (FBU)  Porsche      Porsche            NaN            VW   \n18      Porsche (FBU)  Porsche      Porsche            NaN            VW   \n19      Porsche (FBU)  Porsche      Porsche            NaN            VW   \n20      Porsche (FBU)  Porsche      Porsche            NaN            VW   \n21      Porsche (FBU)  Porsche      Porsche            NaN            VW   \n22      Porsche (FBU)  Porsche      Porsche            NaN            VW   \n23      Porsche (FBU)  Porsche      Porsche            NaN            VW   \n24      Porsche (FBU)  Porsche      Porsche            NaN            VW   \n25      Porsche (FBU)  Porsche      Porsche            NaN            VW   \n26      Porsche (FBU)  Porsche      Porsche            NaN            VW   \n27      Porsche (FBU)  Porsche      Porsche            NaN            VW   \n28      Porsche (FBU)  Porsche      Porsche            NaN            VW   \n29      Porsche (FBU)  Porsche      Porsche            NaN            VW   \n...               ...      ...          ...            ...           ...   \n169774          ZOTYE    ZOTYE  ZOTYE-Motor          ZOTYE         ZOTYE   \n169775          ZOTYE    ZOTYE  ZOTYE-Motor          ZOTYE         ZOTYE   \n169776          ZOTYE    ZOTYE  ZOTYE-Motor          ZOTYE         ZOTYE   \n169777          ZOTYE    ZOTYE  ZOTYE-Motor          ZOTYE         ZOTYE   \n169778          ZOTYE    ZOTYE  ZOTYE-Motor          ZOTYE         ZOTYE   \n169779          ZOTYE    ZOTYE  ZOTYE-Motor          ZOTYE         ZOTYE   \n169780          ZOTYE    ZOTYE  ZOTYE-Motor          ZOTYE         ZOTYE   \n169781          ZOTYE    ZOTYE  ZOTYE-Motor          ZOTYE         ZOTYE   \n169782          ZOTYE    ZOTYE  ZOTYE-Motor          ZOTYE         ZOTYE   \n169783          ZOTYE    ZOTYE  ZOTYE-Motor          ZOTYE         ZOTYE   \n169784          ZOTYE    ZOTYE  ZOTYE-Motor          ZOTYE         ZOTYE   \n169785          ZOTYE    ZOTYE  ZOTYE-Motor          ZOTYE         ZOTYE   \n169786          ZOTYE    ZOTYE  ZOTYE-Motor          ZOTYE         ZOTYE   \n169787          ZOTYE    ZOTYE  ZOTYE-Motor          ZOTYE         ZOTYE   \n169788          ZOTYE    ZOTYE  ZOTYE-Motor          ZOTYE         ZOTYE   \n169789          ZOTYE    ZOTYE  ZOTYE-Motor          ZOTYE         ZOTYE   \n169790          ZOTYE    ZOTYE  ZOTYE-Motor          ZOTYE         ZOTYE   \n169791          ZOTYE    ZOTYE  ZOTYE-Motor          ZOTYE         ZOTYE   \n169792          ZOTYE    ZOTYE  ZOTYE-Motor          ZOTYE         ZOTYE   \n169793          ZOTYE    ZOTYE  ZOTYE-Motor          ZOTYE         ZOTYE   \n169794          ZOTYE    ZOTYE  ZOTYE-Motor          ZOTYE         ZOTYE   \n169795          ZOTYE    ZOTYE  ZOTYE-Motor          ZOTYE         ZOTYE   \n169796          ZOTYE    ZOTYE  ZOTYE-Motor          ZOTYE         ZOTYE   \n169797          ZOTYE    ZOTYE  ZOTYE-Motor          ZOTYE         ZOTYE   \n169798          ZOTYE    ZOTYE  ZOTYE-Motor          ZOTYE         ZOTYE   \n169799          ZOTYE    ZOTYE  ZOTYE-Motor          ZOTYE         ZOTYE   \n169800          ZOTYE    ZOTYE  ZOTYE-Motor          ZOTYE         ZOTYE   \n169801          ZOTYE    ZOTYE  ZOTYE-Motor          ZOTYE         ZOTYE   \n169802          ZOTYE    ZOTYE  ZOTYE-Motor          ZOTYE         ZOTYE   \n169803          ZOTYE    ZOTYE  ZOTYE-Motor          ZOTYE         ZOTYE   \n\n        origin brand_indicator  \n0       Europe         Premium  \n1       Europe         Premium  \n2       Europe         Premium  \n3       Europe         Premium  \n4       Europe         Premium  \n5       Europe         Premium  \n6       Europe         Premium  \n7       Europe         Premium  \n8       Europe         Premium  \n9       Europe         Premium  \n10      Europe         Premium  \n11      Europe         Premium  \n12      Europe         Premium  \n13      Europe         Premium  \n14      Europe         Premium  \n15      Europe         Premium  \n16      Europe         Premium  \n17      Europe         Premium  \n18      Europe         Premium  \n19      Europe         Premium  \n20      Europe         Premium  \n21      Europe         Premium  \n22      Europe         Premium  \n23      Europe         Premium  \n24      Europe         Premium  \n25      Europe         Premium  \n26      Europe         Premium  \n27      Europe         Premium  \n28      Europe         Premium  \n29      Europe         Premium  \n...        ...             ...  \n169774   Local         Economy  \n169775   Local         Economy  \n169776   Local         Economy  \n169777   Local         Economy  \n169778   Local         Economy  \n169779   Local         Economy  \n169780   Local         Economy  \n169781   Local         Economy  \n169782   Local         Economy  \n169783   Local         Economy  \n169784   Local         Economy  \n169785   Local         Economy  \n169786   Local         Economy  \n169787   Local         Economy  \n169788   Local         Economy  \n169789   Local         Economy  \n169790   Local         Economy  \n169791   Local         Economy  \n169792   Local         Economy  \n169793   Local         Economy  \n169794   Local         Economy  \n169795   Local         Economy  \n169796   Local         Economy  \n169797   Local         Economy  \n169798   Local         Economy  \n169799   Local         Economy  \n169800   Local         Economy  \n169801   Local         Economy  \n169802   Local         Economy  \n169803   Local         Economy  \n\n[169804 rows x 27 columns]",
      "text/html": "<div>\n<style>\n    .dataframe thead tr:only-child th {\n        text-align: right;\n    }\n\n    .dataframe thead th {\n        text-align: left;\n    }\n\n    .dataframe tbody tr th {\n        vertical-align: top;\n    }\n</style>\n<table border=\"1\" class=\"dataframe\">\n  <thead>\n    <tr style=\"text-align: right;\">\n      <th></th>\n      <th>year</th>\n      <th>month</th>\n      <th>YearMon</th>\n      <th>mmodel</th>\n      <th>quarter</th>\n      <th>sales</th>\n      <th>export</th>\n      <th>produce</th>\n      <th>WRstatus</th>\n      <th>CKDFBU</th>\n      <th>...</th>\n      <th>subsubsegment</th>\n      <th>type</th>\n      <th>e_type</th>\n      <th>manu_brand</th>\n      <th>brand</th>\n      <th>manufacturer</th>\n      <th>group_domestic</th>\n      <th>group_foreign</th>\n      <th>origin</th>\n      <th>brand_indicator</th>\n    </tr>\n  </thead>\n  <tbody>\n    <tr>\n      <th>0</th>\n      <td>2015</td>\n      <td>6.0</td>\n      <td>2015-06</td>\n      <td>3-Wheeler (FBU)</td>\n      <td>Q2</td>\n      <td>1</td>\n      <td>0</td>\n      <td>0</td>\n      <td>R/R</td>\n      <td>FBU</td>\n      <td>...</td>\n      <td>NaN</td>\n      <td>sedan</td>\n      <td>ICE</td>\n      <td>Morgan (FBU)</td>\n      <td>Morgan</td>\n      <td>Morgan</td>\n      <td>NaN</td>\n      <td>Morgan</td>\n      <td>Europe</td>\n      <td>Premium</td>\n    </tr>\n    <tr>\n      <th>1</th>\n      <td>2015</td>\n      <td>7.0</td>\n      <td>2015-07</td>\n      <td>3-Wheeler (FBU)</td>\n      <td>Q3</td>\n      <td>1</td>\n      <td>0</td>\n      <td>0</td>\n      <td>R/R</td>\n      <td>FBU</td>\n      <td>...</td>\n      <td>NaN</td>\n      <td>sedan</td>\n      <td>ICE</td>\n      <td>Morgan (FBU)</td>\n      <td>Morgan</td>\n      <td>Morgan</td>\n      <td>NaN</td>\n      <td>Morgan</td>\n      <td>Europe</td>\n      <td>Premium</td>\n    </tr>\n    <tr>\n      <th>2</th>\n      <td>2019</td>\n      <td>3.0</td>\n      <td>2019-03</td>\n      <td>718 boxter (FBU)</td>\n      <td>Q1</td>\n      <td>307</td>\n      <td>0</td>\n      <td>0</td>\n      <td>R/R</td>\n      <td>FBU</td>\n      <td>...</td>\n      <td>NaN</td>\n      <td>sedan</td>\n      <td>ICE</td>\n      <td>Porsche (FBU)</td>\n      <td>Porsche</td>\n      <td>Porsche</td>\n      <td>NaN</td>\n      <td>VW</td>\n      <td>Europe</td>\n      <td>Premium</td>\n    </tr>\n    <tr>\n      <th>3</th>\n      <td>2019</td>\n      <td>2.0</td>\n      <td>2019-02</td>\n      <td>718 boxter (FBU)</td>\n      <td>Q1</td>\n      <td>350</td>\n      <td>0</td>\n      <td>0</td>\n      <td>R/R</td>\n      <td>FBU</td>\n      <td>...</td>\n      <td>NaN</td>\n      <td>sedan</td>\n      <td>ICE</td>\n      <td>Porsche (FBU)</td>\n      <td>Porsche</td>\n      <td>Porsche</td>\n      <td>NaN</td>\n      <td>VW</td>\n      <td>Europe</td>\n      <td>Premium</td>\n    </tr>\n    <tr>\n      <th>4</th>\n      <td>2018</td>\n      <td>12.0</td>\n      <td>2018-12</td>\n      <td>718 boxter (FBU)</td>\n      <td>Q4</td>\n      <td>484</td>\n      <td>0</td>\n      <td>0</td>\n      <td>R/R</td>\n      <td>FBU</td>\n      <td>...</td>\n      <td>NaN</td>\n      <td>sedan</td>\n      <td>ICE</td>\n      <td>Porsche (FBU)</td>\n      <td>Porsche</td>\n      <td>Porsche</td>\n      <td>NaN</td>\n      <td>VW</td>\n      <td>Europe</td>\n      <td>Premium</td>\n    </tr>\n    <tr>\n      <th>5</th>\n      <td>2019</td>\n      <td>4.0</td>\n      <td>2019-04</td>\n      <td>718 boxter (FBU)</td>\n      <td>Q2</td>\n      <td>593</td>\n      <td>0</td>\n      <td>0</td>\n      <td>R/R</td>\n      <td>FBU</td>\n      <td>...</td>\n      <td>NaN</td>\n      <td>sedan</td>\n      <td>ICE</td>\n      <td>Porsche (FBU)</td>\n      <td>Porsche</td>\n      <td>Porsche</td>\n      <td>NaN</td>\n      <td>VW</td>\n      <td>Europe</td>\n      <td>Premium</td>\n    </tr>\n    <tr>\n      <th>6</th>\n      <td>2019</td>\n      <td>1.0</td>\n      <td>2019-01</td>\n      <td>718 boxter (FBU)</td>\n      <td>Q1</td>\n      <td>278</td>\n      <td>0</td>\n      <td>0</td>\n      <td>R/R</td>\n      <td>FBU</td>\n      <td>...</td>\n      <td>NaN</td>\n      <td>sedan</td>\n      <td>ICE</td>\n      <td>Porsche (FBU)</td>\n      <td>Porsche</td>\n      <td>Porsche</td>\n      <td>NaN</td>\n      <td>VW</td>\n      <td>Europe</td>\n      <td>Premium</td>\n    </tr>\n    <tr>\n      <th>7</th>\n      <td>2019</td>\n      <td>5.0</td>\n      <td>2019-05</td>\n      <td>718 boxter (FBU)</td>\n      <td>Q2</td>\n      <td>475</td>\n      <td>0</td>\n      <td>0</td>\n      <td>R/R</td>\n      <td>FBU</td>\n      <td>...</td>\n      <td>NaN</td>\n      <td>sedan</td>\n      <td>ICE</td>\n      <td>Porsche (FBU)</td>\n      <td>Porsche</td>\n      <td>Porsche</td>\n      <td>NaN</td>\n      <td>VW</td>\n      <td>Europe</td>\n      <td>Premium</td>\n    </tr>\n    <tr>\n      <th>8</th>\n      <td>2019</td>\n      <td>7.0</td>\n      <td>2019-07</td>\n      <td>718 boxter (FBU)</td>\n      <td>Q3</td>\n      <td>120</td>\n      <td>0</td>\n      <td>0</td>\n      <td>R/R</td>\n      <td>FBU</td>\n      <td>...</td>\n      <td>NaN</td>\n      <td>sedan</td>\n      <td>ICE</td>\n      <td>Porsche (FBU)</td>\n      <td>Porsche</td>\n      <td>Porsche</td>\n      <td>NaN</td>\n      <td>VW</td>\n      <td>Europe</td>\n      <td>Premium</td>\n    </tr>\n    <tr>\n      <th>9</th>\n      <td>2019</td>\n      <td>6.0</td>\n      <td>2019-06</td>\n      <td>718 boxter (FBU)</td>\n      <td>Q2</td>\n      <td>672</td>\n      <td>0</td>\n      <td>0</td>\n      <td>R/R</td>\n      <td>FBU</td>\n      <td>...</td>\n      <td>NaN</td>\n      <td>sedan</td>\n      <td>ICE</td>\n      <td>Porsche (FBU)</td>\n      <td>Porsche</td>\n      <td>Porsche</td>\n      <td>NaN</td>\n      <td>VW</td>\n      <td>Europe</td>\n      <td>Premium</td>\n    </tr>\n    <tr>\n      <th>10</th>\n      <td>2019</td>\n      <td>9.0</td>\n      <td>2019-09</td>\n      <td>718 boxter (FBU)</td>\n      <td>Q3</td>\n      <td>60</td>\n      <td>0</td>\n      <td>0</td>\n      <td>R/R</td>\n      <td>FBU</td>\n      <td>...</td>\n      <td>NaN</td>\n      <td>sedan</td>\n      <td>ICE</td>\n      <td>Porsche (FBU)</td>\n      <td>Porsche</td>\n      <td>Porsche</td>\n      <td>NaN</td>\n      <td>VW</td>\n      <td>Europe</td>\n      <td>Premium</td>\n    </tr>\n    <tr>\n      <th>11</th>\n      <td>2019</td>\n      <td>10.0</td>\n      <td>2019-10</td>\n      <td>718 boxter (FBU)</td>\n      <td>Q4</td>\n      <td>30</td>\n      <td>0</td>\n      <td>0</td>\n      <td>R/R</td>\n      <td>FBU</td>\n      <td>...</td>\n      <td>NaN</td>\n      <td>sedan</td>\n      <td>ICE</td>\n      <td>Porsche (FBU)</td>\n      <td>Porsche</td>\n      <td>Porsche</td>\n      <td>NaN</td>\n      <td>VW</td>\n      <td>Europe</td>\n      <td>Premium</td>\n    </tr>\n    <tr>\n      <th>12</th>\n      <td>2019</td>\n      <td>8.0</td>\n      <td>2019-08</td>\n      <td>718 boxter (FBU)</td>\n      <td>Q3</td>\n      <td>77</td>\n      <td>0</td>\n      <td>0</td>\n      <td>R/R</td>\n      <td>FBU</td>\n      <td>...</td>\n      <td>NaN</td>\n      <td>sedan</td>\n      <td>ICE</td>\n      <td>Porsche (FBU)</td>\n      <td>Porsche</td>\n      <td>Porsche</td>\n      <td>NaN</td>\n      <td>VW</td>\n      <td>Europe</td>\n      <td>Premium</td>\n    </tr>\n    <tr>\n      <th>13</th>\n      <td>2020</td>\n      <td>2.0</td>\n      <td>2020-02</td>\n      <td>718 boxter (FBU)</td>\n      <td>Q1</td>\n      <td>19</td>\n      <td>0</td>\n      <td>0</td>\n      <td>R/R</td>\n      <td>FBU</td>\n      <td>...</td>\n      <td>NaN</td>\n      <td>sedan</td>\n      <td>ICE</td>\n      <td>Porsche (FBU)</td>\n      <td>Porsche</td>\n      <td>Porsche</td>\n      <td>NaN</td>\n      <td>VW</td>\n      <td>Europe</td>\n      <td>Premium</td>\n    </tr>\n    <tr>\n      <th>14</th>\n      <td>2019</td>\n      <td>12.0</td>\n      <td>2019-12</td>\n      <td>718 boxter (FBU)</td>\n      <td>Q4</td>\n      <td>4</td>\n      <td>0</td>\n      <td>0</td>\n      <td>R/R</td>\n      <td>FBU</td>\n      <td>...</td>\n      <td>NaN</td>\n      <td>sedan</td>\n      <td>ICE</td>\n      <td>Porsche (FBU)</td>\n      <td>Porsche</td>\n      <td>Porsche</td>\n      <td>NaN</td>\n      <td>VW</td>\n      <td>Europe</td>\n      <td>Premium</td>\n    </tr>\n    <tr>\n      <th>15</th>\n      <td>2020</td>\n      <td>1.0</td>\n      <td>2020-01</td>\n      <td>718 boxter (FBU)</td>\n      <td>Q1</td>\n      <td>5</td>\n      <td>0</td>\n      <td>0</td>\n      <td>R/R</td>\n      <td>FBU</td>\n      <td>...</td>\n      <td>NaN</td>\n      <td>sedan</td>\n      <td>ICE</td>\n      <td>Porsche (FBU)</td>\n      <td>Porsche</td>\n      <td>Porsche</td>\n      <td>NaN</td>\n      <td>VW</td>\n      <td>Europe</td>\n      <td>Premium</td>\n    </tr>\n    <tr>\n      <th>16</th>\n      <td>2019</td>\n      <td>11.0</td>\n      <td>2019-11</td>\n      <td>718 boxter (FBU)</td>\n      <td>Q4</td>\n      <td>13</td>\n      <td>0</td>\n      <td>0</td>\n      <td>R/R</td>\n      <td>FBU</td>\n      <td>...</td>\n      <td>NaN</td>\n      <td>sedan</td>\n      <td>ICE</td>\n      <td>Porsche (FBU)</td>\n      <td>Porsche</td>\n      <td>Porsche</td>\n      <td>NaN</td>\n      <td>VW</td>\n      <td>Europe</td>\n      <td>Premium</td>\n    </tr>\n    <tr>\n      <th>17</th>\n      <td>2017</td>\n      <td>9.0</td>\n      <td>2017-09</td>\n      <td>718 boxter (FBU)</td>\n      <td>Q3</td>\n      <td>188</td>\n      <td>0</td>\n      <td>0</td>\n      <td>R/R</td>\n      <td>FBU</td>\n      <td>...</td>\n      <td>NaN</td>\n      <td>sedan</td>\n      <td>ICE</td>\n      <td>Porsche (FBU)</td>\n      <td>Porsche</td>\n      <td>Porsche</td>\n      <td>NaN</td>\n      <td>VW</td>\n      <td>Europe</td>\n      <td>Premium</td>\n    </tr>\n    <tr>\n      <th>18</th>\n      <td>2017</td>\n      <td>6.0</td>\n      <td>2017-06</td>\n      <td>718 boxter (FBU)</td>\n      <td>Q2</td>\n      <td>227</td>\n      <td>0</td>\n      <td>0</td>\n      <td>R/R</td>\n      <td>FBU</td>\n      <td>...</td>\n      <td>NaN</td>\n      <td>sedan</td>\n      <td>ICE</td>\n      <td>Porsche (FBU)</td>\n      <td>Porsche</td>\n      <td>Porsche</td>\n      <td>NaN</td>\n      <td>VW</td>\n      <td>Europe</td>\n      <td>Premium</td>\n    </tr>\n    <tr>\n      <th>19</th>\n      <td>2017</td>\n      <td>7.0</td>\n      <td>2017-07</td>\n      <td>718 boxter (FBU)</td>\n      <td>Q3</td>\n      <td>198</td>\n      <td>0</td>\n      <td>0</td>\n      <td>R/R</td>\n      <td>FBU</td>\n      <td>...</td>\n      <td>NaN</td>\n      <td>sedan</td>\n      <td>ICE</td>\n      <td>Porsche (FBU)</td>\n      <td>Porsche</td>\n      <td>Porsche</td>\n      <td>NaN</td>\n      <td>VW</td>\n      <td>Europe</td>\n      <td>Premium</td>\n    </tr>\n    <tr>\n      <th>20</th>\n      <td>2017</td>\n      <td>8.0</td>\n      <td>2017-08</td>\n      <td>718 boxter (FBU)</td>\n      <td>Q3</td>\n      <td>308</td>\n      <td>0</td>\n      <td>0</td>\n      <td>R/R</td>\n      <td>FBU</td>\n      <td>...</td>\n      <td>NaN</td>\n      <td>sedan</td>\n      <td>ICE</td>\n      <td>Porsche (FBU)</td>\n      <td>Porsche</td>\n      <td>Porsche</td>\n      <td>NaN</td>\n      <td>VW</td>\n      <td>Europe</td>\n      <td>Premium</td>\n    </tr>\n    <tr>\n      <th>21</th>\n      <td>2018</td>\n      <td>2.0</td>\n      <td>2018-02</td>\n      <td>718 boxter (FBU)</td>\n      <td>Q1</td>\n      <td>182</td>\n      <td>0</td>\n      <td>0</td>\n      <td>R/R</td>\n      <td>FBU</td>\n      <td>...</td>\n      <td>NaN</td>\n      <td>sedan</td>\n      <td>ICE</td>\n      <td>Porsche (FBU)</td>\n      <td>Porsche</td>\n      <td>Porsche</td>\n      <td>NaN</td>\n      <td>VW</td>\n      <td>Europe</td>\n      <td>Premium</td>\n    </tr>\n    <tr>\n      <th>22</th>\n      <td>2017</td>\n      <td>10.0</td>\n      <td>2017-10</td>\n      <td>718 boxter (FBU)</td>\n      <td>Q4</td>\n      <td>180</td>\n      <td>0</td>\n      <td>0</td>\n      <td>R/R</td>\n      <td>FBU</td>\n      <td>...</td>\n      <td>NaN</td>\n      <td>sedan</td>\n      <td>ICE</td>\n      <td>Porsche (FBU)</td>\n      <td>Porsche</td>\n      <td>Porsche</td>\n      <td>NaN</td>\n      <td>VW</td>\n      <td>Europe</td>\n      <td>Premium</td>\n    </tr>\n    <tr>\n      <th>23</th>\n      <td>2017</td>\n      <td>11.0</td>\n      <td>2017-11</td>\n      <td>718 boxter (FBU)</td>\n      <td>Q4</td>\n      <td>111</td>\n      <td>0</td>\n      <td>0</td>\n      <td>R/R</td>\n      <td>FBU</td>\n      <td>...</td>\n      <td>NaN</td>\n      <td>sedan</td>\n      <td>ICE</td>\n      <td>Porsche (FBU)</td>\n      <td>Porsche</td>\n      <td>Porsche</td>\n      <td>NaN</td>\n      <td>VW</td>\n      <td>Europe</td>\n      <td>Premium</td>\n    </tr>\n    <tr>\n      <th>24</th>\n      <td>2017</td>\n      <td>12.0</td>\n      <td>2017-12</td>\n      <td>718 boxter (FBU)</td>\n      <td>Q4</td>\n      <td>146</td>\n      <td>0</td>\n      <td>0</td>\n      <td>R/R</td>\n      <td>FBU</td>\n      <td>...</td>\n      <td>NaN</td>\n      <td>sedan</td>\n      <td>ICE</td>\n      <td>Porsche (FBU)</td>\n      <td>Porsche</td>\n      <td>Porsche</td>\n      <td>NaN</td>\n      <td>VW</td>\n      <td>Europe</td>\n      <td>Premium</td>\n    </tr>\n    <tr>\n      <th>25</th>\n      <td>2018</td>\n      <td>1.0</td>\n      <td>2018-01</td>\n      <td>718 boxter (FBU)</td>\n      <td>Q1</td>\n      <td>195</td>\n      <td>0</td>\n      <td>0</td>\n      <td>R/R</td>\n      <td>FBU</td>\n      <td>...</td>\n      <td>NaN</td>\n      <td>sedan</td>\n      <td>ICE</td>\n      <td>Porsche (FBU)</td>\n      <td>Porsche</td>\n      <td>Porsche</td>\n      <td>NaN</td>\n      <td>VW</td>\n      <td>Europe</td>\n      <td>Premium</td>\n    </tr>\n    <tr>\n      <th>26</th>\n      <td>2018</td>\n      <td>3.0</td>\n      <td>2018-03</td>\n      <td>718 boxter (FBU)</td>\n      <td>Q1</td>\n      <td>326</td>\n      <td>0</td>\n      <td>0</td>\n      <td>R/R</td>\n      <td>FBU</td>\n      <td>...</td>\n      <td>NaN</td>\n      <td>sedan</td>\n      <td>ICE</td>\n      <td>Porsche (FBU)</td>\n      <td>Porsche</td>\n      <td>Porsche</td>\n      <td>NaN</td>\n      <td>VW</td>\n      <td>Europe</td>\n      <td>Premium</td>\n    </tr>\n    <tr>\n      <th>27</th>\n      <td>2018</td>\n      <td>4.0</td>\n      <td>2018-04</td>\n      <td>718 boxter (FBU)</td>\n      <td>Q2</td>\n      <td>153</td>\n      <td>0</td>\n      <td>0</td>\n      <td>R/R</td>\n      <td>FBU</td>\n      <td>...</td>\n      <td>NaN</td>\n      <td>sedan</td>\n      <td>ICE</td>\n      <td>Porsche (FBU)</td>\n      <td>Porsche</td>\n      <td>Porsche</td>\n      <td>NaN</td>\n      <td>VW</td>\n      <td>Europe</td>\n      <td>Premium</td>\n    </tr>\n    <tr>\n      <th>28</th>\n      <td>2018</td>\n      <td>5.0</td>\n      <td>2018-05</td>\n      <td>718 boxter (FBU)</td>\n      <td>Q2</td>\n      <td>104</td>\n      <td>0</td>\n      <td>0</td>\n      <td>R/R</td>\n      <td>FBU</td>\n      <td>...</td>\n      <td>NaN</td>\n      <td>sedan</td>\n      <td>ICE</td>\n      <td>Porsche (FBU)</td>\n      <td>Porsche</td>\n      <td>Porsche</td>\n      <td>NaN</td>\n      <td>VW</td>\n      <td>Europe</td>\n      <td>Premium</td>\n    </tr>\n    <tr>\n      <th>29</th>\n      <td>2018</td>\n      <td>6.0</td>\n      <td>2018-06</td>\n      <td>718 boxter (FBU)</td>\n      <td>Q2</td>\n      <td>16</td>\n      <td>0</td>\n      <td>0</td>\n      <td>R/R</td>\n      <td>FBU</td>\n      <td>...</td>\n      <td>NaN</td>\n      <td>sedan</td>\n      <td>ICE</td>\n      <td>Porsche (FBU)</td>\n      <td>Porsche</td>\n      <td>Porsche</td>\n      <td>NaN</td>\n      <td>VW</td>\n      <td>Europe</td>\n      <td>Premium</td>\n    </tr>\n    <tr>\n      <th>...</th>\n      <td>...</td>\n      <td>...</td>\n      <td>...</td>\n      <td>...</td>\n      <td>...</td>\n      <td>...</td>\n      <td>...</td>\n      <td>...</td>\n      <td>...</td>\n      <td>...</td>\n      <td>...</td>\n      <td>...</td>\n      <td>...</td>\n      <td>...</td>\n      <td>...</td>\n      <td>...</td>\n      <td>...</td>\n      <td>...</td>\n      <td>...</td>\n      <td>...</td>\n      <td>...</td>\n    </tr>\n    <tr>\n      <th>169774</th>\n      <td>2017</td>\n      <td>8.0</td>\n      <td>2017-08</td>\n      <td>ZOTYE Z700</td>\n      <td>Q3</td>\n      <td>608</td>\n      <td>0</td>\n      <td>0</td>\n      <td>W/W</td>\n      <td>CKD</td>\n      <td>...</td>\n      <td>Low</td>\n      <td>sedan</td>\n      <td>ICE</td>\n      <td>ZOTYE</td>\n      <td>ZOTYE</td>\n      <td>ZOTYE-Motor</td>\n      <td>ZOTYE</td>\n      <td>ZOTYE</td>\n      <td>Local</td>\n      <td>Economy</td>\n    </tr>\n    <tr>\n      <th>169775</th>\n      <td>2017</td>\n      <td>8.0</td>\n      <td>2017-08</td>\n      <td>ZOTYE Z700</td>\n      <td>Q3</td>\n      <td>608</td>\n      <td>0</td>\n      <td>593</td>\n      <td>R/R</td>\n      <td>CKD</td>\n      <td>...</td>\n      <td>Low</td>\n      <td>sedan</td>\n      <td>ICE</td>\n      <td>ZOTYE</td>\n      <td>ZOTYE</td>\n      <td>ZOTYE-Motor</td>\n      <td>ZOTYE</td>\n      <td>ZOTYE</td>\n      <td>Local</td>\n      <td>Economy</td>\n    </tr>\n    <tr>\n      <th>169776</th>\n      <td>2017</td>\n      <td>7.0</td>\n      <td>2017-07</td>\n      <td>ZOTYE Z700</td>\n      <td>Q3</td>\n      <td>966</td>\n      <td>0</td>\n      <td>942</td>\n      <td>R/R</td>\n      <td>CKD</td>\n      <td>...</td>\n      <td>Low</td>\n      <td>sedan</td>\n      <td>ICE</td>\n      <td>ZOTYE</td>\n      <td>ZOTYE</td>\n      <td>ZOTYE-Motor</td>\n      <td>ZOTYE</td>\n      <td>ZOTYE</td>\n      <td>Local</td>\n      <td>Economy</td>\n    </tr>\n    <tr>\n      <th>169777</th>\n      <td>2017</td>\n      <td>6.0</td>\n      <td>2017-06</td>\n      <td>ZOTYE Z700</td>\n      <td>Q2</td>\n      <td>837</td>\n      <td>0</td>\n      <td>866</td>\n      <td>R/R</td>\n      <td>CKD</td>\n      <td>...</td>\n      <td>Low</td>\n      <td>sedan</td>\n      <td>ICE</td>\n      <td>ZOTYE</td>\n      <td>ZOTYE</td>\n      <td>ZOTYE-Motor</td>\n      <td>ZOTYE</td>\n      <td>ZOTYE</td>\n      <td>Local</td>\n      <td>Economy</td>\n    </tr>\n    <tr>\n      <th>169778</th>\n      <td>2017</td>\n      <td>10.0</td>\n      <td>2017-10</td>\n      <td>ZOTYE Z700</td>\n      <td>Q4</td>\n      <td>230</td>\n      <td>0</td>\n      <td>0</td>\n      <td>W/W</td>\n      <td>CKD</td>\n      <td>...</td>\n      <td>Low</td>\n      <td>sedan</td>\n      <td>ICE</td>\n      <td>ZOTYE</td>\n      <td>ZOTYE</td>\n      <td>ZOTYE-Motor</td>\n      <td>ZOTYE</td>\n      <td>ZOTYE</td>\n      <td>Local</td>\n      <td>Economy</td>\n    </tr>\n    <tr>\n      <th>169779</th>\n      <td>2017</td>\n      <td>7.0</td>\n      <td>2017-07</td>\n      <td>ZOTYE Z700</td>\n      <td>Q3</td>\n      <td>966</td>\n      <td>0</td>\n      <td>0</td>\n      <td>W/W</td>\n      <td>CKD</td>\n      <td>...</td>\n      <td>Low</td>\n      <td>sedan</td>\n      <td>ICE</td>\n      <td>ZOTYE</td>\n      <td>ZOTYE</td>\n      <td>ZOTYE-Motor</td>\n      <td>ZOTYE</td>\n      <td>ZOTYE</td>\n      <td>Local</td>\n      <td>Economy</td>\n    </tr>\n    <tr>\n      <th>169780</th>\n      <td>2016</td>\n      <td>12.0</td>\n      <td>2016-12</td>\n      <td>ZOTYE Z700</td>\n      <td>Q4</td>\n      <td>1307</td>\n      <td>0</td>\n      <td>0</td>\n      <td>W/W</td>\n      <td>CKD</td>\n      <td>...</td>\n      <td>Low</td>\n      <td>sedan</td>\n      <td>ICE</td>\n      <td>ZOTYE</td>\n      <td>ZOTYE</td>\n      <td>ZOTYE-Motor</td>\n      <td>ZOTYE</td>\n      <td>ZOTYE</td>\n      <td>Local</td>\n      <td>Economy</td>\n    </tr>\n    <tr>\n      <th>169781</th>\n      <td>2016</td>\n      <td>9.0</td>\n      <td>2016-09</td>\n      <td>ZOTYE Z700</td>\n      <td>Q3</td>\n      <td>1983</td>\n      <td>0</td>\n      <td>0</td>\n      <td>W/W</td>\n      <td>CKD</td>\n      <td>...</td>\n      <td>Low</td>\n      <td>sedan</td>\n      <td>ICE</td>\n      <td>ZOTYE</td>\n      <td>ZOTYE</td>\n      <td>ZOTYE-Motor</td>\n      <td>ZOTYE</td>\n      <td>ZOTYE</td>\n      <td>Local</td>\n      <td>Economy</td>\n    </tr>\n    <tr>\n      <th>169782</th>\n      <td>2016</td>\n      <td>10.0</td>\n      <td>2016-10</td>\n      <td>ZOTYE Z700</td>\n      <td>Q4</td>\n      <td>1886</td>\n      <td>0</td>\n      <td>1858</td>\n      <td>R/R</td>\n      <td>CKD</td>\n      <td>...</td>\n      <td>Low</td>\n      <td>sedan</td>\n      <td>ICE</td>\n      <td>ZOTYE</td>\n      <td>ZOTYE</td>\n      <td>ZOTYE-Motor</td>\n      <td>ZOTYE</td>\n      <td>ZOTYE</td>\n      <td>Local</td>\n      <td>Economy</td>\n    </tr>\n    <tr>\n      <th>169783</th>\n      <td>2016</td>\n      <td>10.0</td>\n      <td>2016-10</td>\n      <td>ZOTYE Z700</td>\n      <td>Q4</td>\n      <td>1886</td>\n      <td>0</td>\n      <td>0</td>\n      <td>W/W</td>\n      <td>CKD</td>\n      <td>...</td>\n      <td>Low</td>\n      <td>sedan</td>\n      <td>ICE</td>\n      <td>ZOTYE</td>\n      <td>ZOTYE</td>\n      <td>ZOTYE-Motor</td>\n      <td>ZOTYE</td>\n      <td>ZOTYE</td>\n      <td>Local</td>\n      <td>Economy</td>\n    </tr>\n    <tr>\n      <th>169784</th>\n      <td>2016</td>\n      <td>11.0</td>\n      <td>2016-11</td>\n      <td>ZOTYE Z700</td>\n      <td>Q4</td>\n      <td>1076</td>\n      <td>0</td>\n      <td>1060</td>\n      <td>R/R</td>\n      <td>CKD</td>\n      <td>...</td>\n      <td>Low</td>\n      <td>sedan</td>\n      <td>ICE</td>\n      <td>ZOTYE</td>\n      <td>ZOTYE</td>\n      <td>ZOTYE-Motor</td>\n      <td>ZOTYE</td>\n      <td>ZOTYE</td>\n      <td>Local</td>\n      <td>Economy</td>\n    </tr>\n    <tr>\n      <th>169785</th>\n      <td>2016</td>\n      <td>11.0</td>\n      <td>2016-11</td>\n      <td>ZOTYE Z700</td>\n      <td>Q4</td>\n      <td>1076</td>\n      <td>0</td>\n      <td>0</td>\n      <td>W/W</td>\n      <td>CKD</td>\n      <td>...</td>\n      <td>Low</td>\n      <td>sedan</td>\n      <td>ICE</td>\n      <td>ZOTYE</td>\n      <td>ZOTYE</td>\n      <td>ZOTYE-Motor</td>\n      <td>ZOTYE</td>\n      <td>ZOTYE</td>\n      <td>Local</td>\n      <td>Economy</td>\n    </tr>\n    <tr>\n      <th>169786</th>\n      <td>2016</td>\n      <td>12.0</td>\n      <td>2016-12</td>\n      <td>ZOTYE Z700</td>\n      <td>Q4</td>\n      <td>1307</td>\n      <td>0</td>\n      <td>1255</td>\n      <td>R/R</td>\n      <td>CKD</td>\n      <td>...</td>\n      <td>Low</td>\n      <td>sedan</td>\n      <td>ICE</td>\n      <td>ZOTYE</td>\n      <td>ZOTYE</td>\n      <td>ZOTYE-Motor</td>\n      <td>ZOTYE</td>\n      <td>ZOTYE</td>\n      <td>Local</td>\n      <td>Economy</td>\n    </tr>\n    <tr>\n      <th>169787</th>\n      <td>2016</td>\n      <td>9.0</td>\n      <td>2016-09</td>\n      <td>ZOTYE Z700</td>\n      <td>Q3</td>\n      <td>1983</td>\n      <td>0</td>\n      <td>1953</td>\n      <td>R/R</td>\n      <td>CKD</td>\n      <td>...</td>\n      <td>Low</td>\n      <td>sedan</td>\n      <td>ICE</td>\n      <td>ZOTYE</td>\n      <td>ZOTYE</td>\n      <td>ZOTYE-Motor</td>\n      <td>ZOTYE</td>\n      <td>ZOTYE</td>\n      <td>Local</td>\n      <td>Economy</td>\n    </tr>\n    <tr>\n      <th>169788</th>\n      <td>2018</td>\n      <td>10.0</td>\n      <td>2018-10</td>\n      <td>ZOTYE Z700</td>\n      <td>Q4</td>\n      <td>21</td>\n      <td>0</td>\n      <td>0</td>\n      <td>W/W</td>\n      <td>CKD</td>\n      <td>...</td>\n      <td>Low</td>\n      <td>sedan</td>\n      <td>ICE</td>\n      <td>ZOTYE</td>\n      <td>ZOTYE</td>\n      <td>ZOTYE-Motor</td>\n      <td>ZOTYE</td>\n      <td>ZOTYE</td>\n      <td>Local</td>\n      <td>Economy</td>\n    </tr>\n    <tr>\n      <th>169789</th>\n      <td>2018</td>\n      <td>8.0</td>\n      <td>2018-08</td>\n      <td>ZOTYE Z700</td>\n      <td>Q3</td>\n      <td>1</td>\n      <td>0</td>\n      <td>0</td>\n      <td>R/R</td>\n      <td>CKD</td>\n      <td>...</td>\n      <td>Low</td>\n      <td>sedan</td>\n      <td>ICE</td>\n      <td>ZOTYE</td>\n      <td>ZOTYE</td>\n      <td>ZOTYE-Motor</td>\n      <td>ZOTYE</td>\n      <td>ZOTYE</td>\n      <td>Local</td>\n      <td>Economy</td>\n    </tr>\n    <tr>\n      <th>169790</th>\n      <td>2018</td>\n      <td>8.0</td>\n      <td>2018-08</td>\n      <td>ZOTYE Z700</td>\n      <td>Q3</td>\n      <td>1</td>\n      <td>0</td>\n      <td>0</td>\n      <td>W/W</td>\n      <td>CKD</td>\n      <td>...</td>\n      <td>Low</td>\n      <td>sedan</td>\n      <td>ICE</td>\n      <td>ZOTYE</td>\n      <td>ZOTYE</td>\n      <td>ZOTYE-Motor</td>\n      <td>ZOTYE</td>\n      <td>ZOTYE</td>\n      <td>Local</td>\n      <td>Economy</td>\n    </tr>\n    <tr>\n      <th>169791</th>\n      <td>2018</td>\n      <td>9.0</td>\n      <td>2018-09</td>\n      <td>ZOTYE Z700</td>\n      <td>Q3</td>\n      <td>7</td>\n      <td>0</td>\n      <td>0</td>\n      <td>R/R</td>\n      <td>CKD</td>\n      <td>...</td>\n      <td>Low</td>\n      <td>sedan</td>\n      <td>ICE</td>\n      <td>ZOTYE</td>\n      <td>ZOTYE</td>\n      <td>ZOTYE-Motor</td>\n      <td>ZOTYE</td>\n      <td>ZOTYE</td>\n      <td>Local</td>\n      <td>Economy</td>\n    </tr>\n    <tr>\n      <th>169792</th>\n      <td>2018</td>\n      <td>9.0</td>\n      <td>2018-09</td>\n      <td>ZOTYE Z700</td>\n      <td>Q3</td>\n      <td>7</td>\n      <td>0</td>\n      <td>0</td>\n      <td>W/W</td>\n      <td>CKD</td>\n      <td>...</td>\n      <td>Low</td>\n      <td>sedan</td>\n      <td>ICE</td>\n      <td>ZOTYE</td>\n      <td>ZOTYE</td>\n      <td>ZOTYE-Motor</td>\n      <td>ZOTYE</td>\n      <td>ZOTYE</td>\n      <td>Local</td>\n      <td>Economy</td>\n    </tr>\n    <tr>\n      <th>169793</th>\n      <td>2018</td>\n      <td>10.0</td>\n      <td>2018-10</td>\n      <td>ZOTYE Z700</td>\n      <td>Q4</td>\n      <td>21</td>\n      <td>0</td>\n      <td>0</td>\n      <td>R/R</td>\n      <td>CKD</td>\n      <td>...</td>\n      <td>Low</td>\n      <td>sedan</td>\n      <td>ICE</td>\n      <td>ZOTYE</td>\n      <td>ZOTYE</td>\n      <td>ZOTYE-Motor</td>\n      <td>ZOTYE</td>\n      <td>ZOTYE</td>\n      <td>Local</td>\n      <td>Economy</td>\n    </tr>\n    <tr>\n      <th>169794</th>\n      <td>2016</td>\n      <td>8.0</td>\n      <td>2016-08</td>\n      <td>ZOTYE Z700</td>\n      <td>Q3</td>\n      <td>1779</td>\n      <td>0</td>\n      <td>1752</td>\n      <td>R/R</td>\n      <td>CKD</td>\n      <td>...</td>\n      <td>Low</td>\n      <td>sedan</td>\n      <td>ICE</td>\n      <td>ZOTYE</td>\n      <td>ZOTYE</td>\n      <td>ZOTYE-Motor</td>\n      <td>ZOTYE</td>\n      <td>ZOTYE</td>\n      <td>Local</td>\n      <td>Economy</td>\n    </tr>\n    <tr>\n      <th>169795</th>\n      <td>2016</td>\n      <td>7.0</td>\n      <td>2016-07</td>\n      <td>ZOTYE Z700</td>\n      <td>Q3</td>\n      <td>1479</td>\n      <td>0</td>\n      <td>0</td>\n      <td>W/W</td>\n      <td>CKD</td>\n      <td>...</td>\n      <td>Low</td>\n      <td>sedan</td>\n      <td>ICE</td>\n      <td>ZOTYE</td>\n      <td>ZOTYE</td>\n      <td>ZOTYE-Motor</td>\n      <td>ZOTYE</td>\n      <td>ZOTYE</td>\n      <td>Local</td>\n      <td>Economy</td>\n    </tr>\n    <tr>\n      <th>169796</th>\n      <td>2016</td>\n      <td>7.0</td>\n      <td>2016-07</td>\n      <td>ZOTYE Z700</td>\n      <td>Q3</td>\n      <td>1479</td>\n      <td>0</td>\n      <td>1457</td>\n      <td>R/R</td>\n      <td>CKD</td>\n      <td>...</td>\n      <td>Low</td>\n      <td>sedan</td>\n      <td>ICE</td>\n      <td>ZOTYE</td>\n      <td>ZOTYE</td>\n      <td>ZOTYE-Motor</td>\n      <td>ZOTYE</td>\n      <td>ZOTYE</td>\n      <td>Local</td>\n      <td>Economy</td>\n    </tr>\n    <tr>\n      <th>169797</th>\n      <td>2016</td>\n      <td>6.0</td>\n      <td>2016-06</td>\n      <td>ZOTYE Z700</td>\n      <td>Q2</td>\n      <td>1453</td>\n      <td>0</td>\n      <td>0</td>\n      <td>W/W</td>\n      <td>CKD</td>\n      <td>...</td>\n      <td>Low</td>\n      <td>sedan</td>\n      <td>ICE</td>\n      <td>ZOTYE</td>\n      <td>ZOTYE</td>\n      <td>ZOTYE-Motor</td>\n      <td>ZOTYE</td>\n      <td>ZOTYE</td>\n      <td>Local</td>\n      <td>Economy</td>\n    </tr>\n    <tr>\n      <th>169798</th>\n      <td>2016</td>\n      <td>6.0</td>\n      <td>2016-06</td>\n      <td>ZOTYE Z700</td>\n      <td>Q2</td>\n      <td>1453</td>\n      <td>0</td>\n      <td>1598</td>\n      <td>R/R</td>\n      <td>CKD</td>\n      <td>...</td>\n      <td>Low</td>\n      <td>sedan</td>\n      <td>ICE</td>\n      <td>ZOTYE</td>\n      <td>ZOTYE</td>\n      <td>ZOTYE-Motor</td>\n      <td>ZOTYE</td>\n      <td>ZOTYE</td>\n      <td>Local</td>\n      <td>Economy</td>\n    </tr>\n    <tr>\n      <th>169799</th>\n      <td>2016</td>\n      <td>5.0</td>\n      <td>2016-05</td>\n      <td>ZOTYE Z700</td>\n      <td>Q2</td>\n      <td>645</td>\n      <td>0</td>\n      <td>0</td>\n      <td>W/W</td>\n      <td>CKD</td>\n      <td>...</td>\n      <td>Low</td>\n      <td>sedan</td>\n      <td>ICE</td>\n      <td>ZOTYE</td>\n      <td>ZOTYE</td>\n      <td>ZOTYE-Motor</td>\n      <td>ZOTYE</td>\n      <td>ZOTYE</td>\n      <td>Local</td>\n      <td>Economy</td>\n    </tr>\n    <tr>\n      <th>169800</th>\n      <td>2016</td>\n      <td>5.0</td>\n      <td>2016-05</td>\n      <td>ZOTYE Z700</td>\n      <td>Q2</td>\n      <td>645</td>\n      <td>0</td>\n      <td>710</td>\n      <td>R/R</td>\n      <td>CKD</td>\n      <td>...</td>\n      <td>Low</td>\n      <td>sedan</td>\n      <td>ICE</td>\n      <td>ZOTYE</td>\n      <td>ZOTYE</td>\n      <td>ZOTYE-Motor</td>\n      <td>ZOTYE</td>\n      <td>ZOTYE</td>\n      <td>Local</td>\n      <td>Economy</td>\n    </tr>\n    <tr>\n      <th>169801</th>\n      <td>2016</td>\n      <td>4.0</td>\n      <td>2016-04</td>\n      <td>ZOTYE Z700</td>\n      <td>Q2</td>\n      <td>748</td>\n      <td>0</td>\n      <td>823</td>\n      <td>R/R</td>\n      <td>CKD</td>\n      <td>...</td>\n      <td>Low</td>\n      <td>sedan</td>\n      <td>ICE</td>\n      <td>ZOTYE</td>\n      <td>ZOTYE</td>\n      <td>ZOTYE-Motor</td>\n      <td>ZOTYE</td>\n      <td>ZOTYE</td>\n      <td>Local</td>\n      <td>Economy</td>\n    </tr>\n    <tr>\n      <th>169802</th>\n      <td>2016</td>\n      <td>8.0</td>\n      <td>2016-08</td>\n      <td>ZOTYE Z700</td>\n      <td>Q3</td>\n      <td>1779</td>\n      <td>0</td>\n      <td>0</td>\n      <td>W/W</td>\n      <td>CKD</td>\n      <td>...</td>\n      <td>Low</td>\n      <td>sedan</td>\n      <td>ICE</td>\n      <td>ZOTYE</td>\n      <td>ZOTYE</td>\n      <td>ZOTYE-Motor</td>\n      <td>ZOTYE</td>\n      <td>ZOTYE</td>\n      <td>Local</td>\n      <td>Economy</td>\n    </tr>\n    <tr>\n      <th>169803</th>\n      <td>2016</td>\n      <td>4.0</td>\n      <td>2016-04</td>\n      <td>ZOTYE Z700</td>\n      <td>Q2</td>\n      <td>748</td>\n      <td>0</td>\n      <td>0</td>\n      <td>W/W</td>\n      <td>CKD</td>\n      <td>...</td>\n      <td>Low</td>\n      <td>sedan</td>\n      <td>ICE</td>\n      <td>ZOTYE</td>\n      <td>ZOTYE</td>\n      <td>ZOTYE-Motor</td>\n      <td>ZOTYE</td>\n      <td>ZOTYE</td>\n      <td>Local</td>\n      <td>Economy</td>\n    </tr>\n  </tbody>\n</table>\n<p>169804 rows × 27 columns</p>\n</div>"
     },
     "execution_count": 26,
     "metadata": {},
     "output_type": "execute_result"
    }
   ],
   "source": [
    "df = pd.read_csv(\"../salesdata.csv\",encoding='ansi')\n",
    "df"
   ],
   "metadata": {
    "collapsed": false,
    "pycharm": {
     "name": "#%%\n"
    }
   }
  },
  {
   "cell_type": "code",
   "execution_count": 10,
   "outputs": [
    {
     "data": {
      "text/plain": "'E:\\\\PythonCode\\\\python\\\\SVWDataEngine\\\\Pre'"
     },
     "execution_count": 10,
     "metadata": {},
     "output_type": "execute_result"
    }
   ],
   "source": [
    "import os\n",
    "os.getcwd()"
   ],
   "metadata": {
    "collapsed": false,
    "pycharm": {
     "name": "#%%\n"
    }
   }
  },
  {
   "cell_type": "code",
   "execution_count": 11,
   "outputs": [
    {
     "data": {
      "text/plain": "year                 int64\nmonth              float64\nYearMon             object\nmmodel              object\nquarter             object\nsales                int64\nexport               int64\nproduce              int64\nWRstatus            object\nCKDFBU              object\nmodel               object\nmodel_name          object\nmodel_brand         object\nmodel_family        object\nfuel_type           object\nsegment             object\nbodytype            object\nsubsubsegment       object\ntype                object\ne_type              object\nmanu_brand          object\nbrand               object\nmanufacturer        object\ngroup_domestic      object\ngroup_foreign       object\norigin              object\nbrand_indicator     object\ndtype: object"
     },
     "execution_count": 11,
     "metadata": {},
     "output_type": "execute_result"
    }
   ],
   "source": [
    "df.dtypes"
   ],
   "metadata": {
    "collapsed": false,
    "pycharm": {
     "name": "#%%\n"
    }
   }
  },
  {
   "cell_type": "code",
   "execution_count": 13,
   "outputs": [],
   "source": [
    "df['month'].fillna(0,inplace=True)\n",
    "df['month'] = df['month'].astype(int)"
   ],
   "metadata": {
    "collapsed": false,
    "pycharm": {
     "name": "#%%\n"
    }
   }
  },
  {
   "cell_type": "code",
   "execution_count": 14,
   "outputs": [
    {
     "data": {
      "text/plain": "4     14864\n3     14736\n1     14572\n12    14444\n2     14190\n11    14137\n9     13933\n10    13865\n8     13769\n7     13727\n6     13709\n5     13623\n0       235\nName: month, dtype: int64"
     },
     "execution_count": 14,
     "metadata": {},
     "output_type": "execute_result"
    }
   ],
   "source": [
    "df['month'].value_counts()"
   ],
   "metadata": {
    "collapsed": false,
    "pycharm": {
     "name": "#%%\n"
    }
   }
  },
  {
   "cell_type": "code",
   "execution_count": 18,
   "outputs": [
    {
     "data": {
      "text/plain": "   year  month  sales\n2  2019      3    307\n3  2019      2    350\n4  2018     12    484\n5  2019      4    593\n6  2019      1    278",
      "text/html": "<div>\n<style>\n    .dataframe thead tr:only-child th {\n        text-align: right;\n    }\n\n    .dataframe thead th {\n        text-align: left;\n    }\n\n    .dataframe tbody tr th {\n        vertical-align: top;\n    }\n</style>\n<table border=\"1\" class=\"dataframe\">\n  <thead>\n    <tr style=\"text-align: right;\">\n      <th></th>\n      <th>year</th>\n      <th>month</th>\n      <th>sales</th>\n    </tr>\n  </thead>\n  <tbody>\n    <tr>\n      <th>2</th>\n      <td>2019</td>\n      <td>3</td>\n      <td>307</td>\n    </tr>\n    <tr>\n      <th>3</th>\n      <td>2019</td>\n      <td>2</td>\n      <td>350</td>\n    </tr>\n    <tr>\n      <th>4</th>\n      <td>2018</td>\n      <td>12</td>\n      <td>484</td>\n    </tr>\n    <tr>\n      <th>5</th>\n      <td>2019</td>\n      <td>4</td>\n      <td>593</td>\n    </tr>\n    <tr>\n      <th>6</th>\n      <td>2019</td>\n      <td>1</td>\n      <td>278</td>\n    </tr>\n  </tbody>\n</table>\n</div>"
     },
     "execution_count": 18,
     "metadata": {},
     "output_type": "execute_result"
    }
   ],
   "source": [
    "# df[(df['year']>=2018)].to_csv('salesdata_all.csv')\n",
    "dfdata = df[['year','month','sales']][(df['year']>=2018)]\n",
    "dfdata.head()"
   ],
   "metadata": {
    "collapsed": false,
    "pycharm": {
     "name": "#%%\n"
    }
   }
  },
  {
   "cell_type": "code",
   "execution_count": 23,
   "outputs": [
    {
     "data": {
      "text/plain": "   year  month  sales\n2  2019      3    307\n3  2019      2    350\n4  2018     12    484\n5  2019      4    593\n6  2019      1    278",
      "text/html": "<div>\n<style>\n    .dataframe thead tr:only-child th {\n        text-align: right;\n    }\n\n    .dataframe thead th {\n        text-align: left;\n    }\n\n    .dataframe tbody tr th {\n        vertical-align: top;\n    }\n</style>\n<table border=\"1\" class=\"dataframe\">\n  <thead>\n    <tr style=\"text-align: right;\">\n      <th></th>\n      <th>year</th>\n      <th>month</th>\n      <th>sales</th>\n    </tr>\n  </thead>\n  <tbody>\n    <tr>\n      <th>2</th>\n      <td>2019</td>\n      <td>3</td>\n      <td>307</td>\n    </tr>\n    <tr>\n      <th>3</th>\n      <td>2019</td>\n      <td>2</td>\n      <td>350</td>\n    </tr>\n    <tr>\n      <th>4</th>\n      <td>2018</td>\n      <td>12</td>\n      <td>484</td>\n    </tr>\n    <tr>\n      <th>5</th>\n      <td>2019</td>\n      <td>4</td>\n      <td>593</td>\n    </tr>\n    <tr>\n      <th>6</th>\n      <td>2019</td>\n      <td>1</td>\n      <td>278</td>\n    </tr>\n  </tbody>\n</table>\n</div>"
     },
     "execution_count": 23,
     "metadata": {},
     "output_type": "execute_result"
    }
   ],
   "source": [
    "dfhead = dfdata.head()\n",
    "dfhead"
   ],
   "metadata": {
    "collapsed": false,
    "pycharm": {
     "name": "#%%\n"
    }
   }
  },
  {
   "cell_type": "code",
   "execution_count": 25,
   "outputs": [
    {
     "name": "stderr",
     "output_type": "stream",
     "text": [
      "E:\\anaconda3\\lib\\site-packages\\ipykernel_launcher.py:3: SettingWithCopyWarning: \n",
      "A value is trying to be set on a copy of a slice from a DataFrame.\n",
      "Try using .loc[row_indexer,col_indexer] = value instead\n",
      "\n",
      "See the caveats in the documentation: http://pandas.pydata.org/pandas-docs/stable/indexing.html#indexing-view-versus-copy\n",
      "  This is separate from the ipykernel package so we can avoid doing imports until\n"
     ]
    },
    {
     "data": {
      "text/plain": "   year  month  sales  yymm\n2  2019      3    307  2022\n3  2019      2    350  2021\n4  2018     12    484  2030\n5  2019      4    593  2023\n6  2019      1    278  2020",
      "text/html": "<div>\n<style>\n    .dataframe thead tr:only-child th {\n        text-align: right;\n    }\n\n    .dataframe thead th {\n        text-align: left;\n    }\n\n    .dataframe tbody tr th {\n        vertical-align: top;\n    }\n</style>\n<table border=\"1\" class=\"dataframe\">\n  <thead>\n    <tr style=\"text-align: right;\">\n      <th></th>\n      <th>year</th>\n      <th>month</th>\n      <th>sales</th>\n      <th>yymm</th>\n    </tr>\n  </thead>\n  <tbody>\n    <tr>\n      <th>2</th>\n      <td>2019</td>\n      <td>3</td>\n      <td>307</td>\n      <td>2022</td>\n    </tr>\n    <tr>\n      <th>3</th>\n      <td>2019</td>\n      <td>2</td>\n      <td>350</td>\n      <td>2021</td>\n    </tr>\n    <tr>\n      <th>4</th>\n      <td>2018</td>\n      <td>12</td>\n      <td>484</td>\n      <td>2030</td>\n    </tr>\n    <tr>\n      <th>5</th>\n      <td>2019</td>\n      <td>4</td>\n      <td>593</td>\n      <td>2023</td>\n    </tr>\n    <tr>\n      <th>6</th>\n      <td>2019</td>\n      <td>1</td>\n      <td>278</td>\n      <td>2020</td>\n    </tr>\n  </tbody>\n</table>\n</div>"
     },
     "execution_count": 25,
     "metadata": {},
     "output_type": "execute_result"
    }
   ],
   "source": [
    "# dfhead['yymm'] = str(dfhead['year']) + str(dfhead['month'])\n",
    "dfhead['yymm'] = dfhead['year'] + dfhead['month']\n",
    "dfhead"
   ],
   "metadata": {
    "collapsed": false,
    "pycharm": {
     "name": "#%%\n"
    }
   }
  },
  {
   "cell_type": "code",
   "execution_count": null,
   "outputs": [],
   "source": [
    "\n"
   ],
   "metadata": {
    "collapsed": false,
    "pycharm": {
     "name": "#%%\n"
    }
   }
  }
 ],
 "metadata": {
  "kernelspec": {
   "display_name": "Python 3",
   "language": "python",
   "name": "python3"
  },
  "language_info": {
   "codemirror_mode": {
    "name": "ipython",
    "version": 2
   },
   "file_extension": ".py",
   "mimetype": "text/x-python",
   "name": "python",
   "nbconvert_exporter": "python",
   "pygments_lexer": "ipython2",
   "version": "2.7.6"
  }
 },
 "nbformat": 4,
 "nbformat_minor": 0
}